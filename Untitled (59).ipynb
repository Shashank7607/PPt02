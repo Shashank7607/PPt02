{
 "cells": [
  {
   "cell_type": "code",
   "execution_count": 1,
   "id": "23e895a4-faa8-4b04-b531-71adde19b7c2",
   "metadata": {},
   "outputs": [],
   "source": [
    "#Ans 1"
   ]
  },
  {
   "cell_type": "code",
   "execution_count": 6,
   "id": "0c593870-b601-4d38-a01a-16f346c2e955",
   "metadata": {},
   "outputs": [],
   "source": [
    "def arrayPairSum(nums):\n",
    "    nums.sort()\n",
    "    max_sum = 0\n",
    "    for i in range(0, len(nums), 2):\n",
    "        max_sum += nums[i]\n",
    "    return max_sum\n"
   ]
  },
  {
   "cell_type": "code",
   "execution_count": 5,
   "id": "1f824978-3f05-42cd-b804-fa37145ea2ce",
   "metadata": {},
   "outputs": [
    {
     "name": "stdout",
     "output_type": "stream",
     "text": [
      "4\n"
     ]
    }
   ],
   "source": [
    "nums = [1, 4, 3, 2]\n",
    "print(arrayPairSum(nums))\n"
   ]
  },
  {
   "cell_type": "code",
   "execution_count": 7,
   "id": "d036ebc8-0eff-4cb6-86eb-d7f1cbb30637",
   "metadata": {},
   "outputs": [],
   "source": [
    "#Ans 2"
   ]
  },
  {
   "cell_type": "code",
   "execution_count": 12,
   "id": "25ca75dd-d573-46cd-84b5-120a54c64c37",
   "metadata": {},
   "outputs": [],
   "source": [
    "def maxCandies(candyType):\n",
    "    unique_candies = set(candyType)\n",
    "    max_types = min(len(unique_candies), len(candyType) // 2)\n",
    "    return max_types\n"
   ]
  },
  {
   "cell_type": "code",
   "execution_count": 13,
   "id": "0c6a2cf9-bb80-4a3c-854f-92c2a0534b32",
   "metadata": {},
   "outputs": [
    {
     "name": "stdout",
     "output_type": "stream",
     "text": [
      "3\n"
     ]
    }
   ],
   "source": [
    "candyType = [1, 1, 2, 2, 3, 3]\n",
    "print(maxCandies(candyType))\n"
   ]
  },
  {
   "cell_type": "code",
   "execution_count": 15,
   "id": "2afd5287-ab0c-4a78-b154-b4451a533f6b",
   "metadata": {},
   "outputs": [],
   "source": [
    "#Ans 3"
   ]
  },
  {
   "cell_type": "code",
   "execution_count": 20,
   "id": "8e543bc3-aaec-4981-a838-8bd396140b79",
   "metadata": {},
   "outputs": [],
   "source": [
    "def findLHS(nums):\n",
    "    freq = {}\n",
    "    for num in nums:\n",
    "        freq[num] = freq.get(num, 0) + 1\n",
    "    \n",
    "    max_length = 0\n",
    "    for num in freq:\n",
    "        if num + 1 in freq:\n",
    "            max_length = max(max_length, freq[num] + freq[num + 1])\n",
    "    \n",
    "    return max_length\n"
   ]
  },
  {
   "cell_type": "code",
   "execution_count": 21,
   "id": "4c50eb62-cb18-420b-9263-0d34f49224a4",
   "metadata": {},
   "outputs": [
    {
     "name": "stdout",
     "output_type": "stream",
     "text": [
      "5\n"
     ]
    }
   ],
   "source": [
    "nums = [1, 3, 2, 2, 5, 2, 3, 7]\n",
    "print(findLHS(nums))\n"
   ]
  },
  {
   "cell_type": "code",
   "execution_count": 23,
   "id": "9a9e8645-dbe8-4a57-903c-b6e3894a40aa",
   "metadata": {},
   "outputs": [],
   "source": [
    "#Ans 4"
   ]
  },
  {
   "cell_type": "code",
   "execution_count": 26,
   "id": "262d6dcb-da46-4e5c-9b1f-9eb4a7364651",
   "metadata": {},
   "outputs": [],
   "source": [
    "def canPlaceFlowers(flowerbed, n):\n",
    "    count = 0\n",
    "    length = len(flowerbed)\n",
    "    for i in range(length):\n",
    "        if flowerbed[i] == 0 and (i == 0 or flowerbed[i - 1] == 0) and (i == length - 1 or flowerbed[i + 1] == 0):\n",
    "            flowerbed[i] = 1\n",
    "            count += 1\n",
    "    return count >= n\n"
   ]
  },
  {
   "cell_type": "code",
   "execution_count": 27,
   "id": "52d543e5-5e52-4015-b07b-33fda4139860",
   "metadata": {},
   "outputs": [
    {
     "name": "stdout",
     "output_type": "stream",
     "text": [
      "True\n"
     ]
    }
   ],
   "source": [
    "flowerbed = [1, 0, 0, 0, 1]\n",
    "n = 1\n",
    "print(canPlaceFlowers(flowerbed, n))\n"
   ]
  },
  {
   "cell_type": "code",
   "execution_count": 28,
   "id": "0674975d-d49d-4e98-aaf0-c2f43ab95439",
   "metadata": {},
   "outputs": [],
   "source": [
    "#Ans 5"
   ]
  },
  {
   "cell_type": "code",
   "execution_count": 33,
   "id": "72dba1a6-84d4-4764-825d-d6c435c18cae",
   "metadata": {},
   "outputs": [],
   "source": [
    "def maximumProduct(nums):\n",
    "    nums.sort()\n",
    "    return max(nums[-1] * nums[-2] * nums[-3], nums[0] * nums[1] * nums[-1])\n"
   ]
  },
  {
   "cell_type": "code",
   "execution_count": 34,
   "id": "f91f9dce-b814-4fd4-830c-ffd5c12880a0",
   "metadata": {},
   "outputs": [
    {
     "name": "stdout",
     "output_type": "stream",
     "text": [
      "6\n"
     ]
    }
   ],
   "source": [
    "nums = [1, 2, 3]\n",
    "print(maximumProduct(nums))\n"
   ]
  },
  {
   "cell_type": "code",
   "execution_count": 35,
   "id": "a5aeba2c-6585-4123-802d-9196449daa9b",
   "metadata": {},
   "outputs": [],
   "source": [
    "#Ans 6"
   ]
  },
  {
   "cell_type": "code",
   "execution_count": 47,
   "id": "99ea0a46-e1c8-4503-af2f-9ecce83e893b",
   "metadata": {},
   "outputs": [],
   "source": [
    "def search(nums, target):\n",
    "    left, right = 0, len(nums) - 1\n",
    "    while left <= right:\n",
    "        mid = (left + right) // 2\n",
    "        if nums[mid] == target:\n",
    "            return mid\n",
    "        elif nums[mid] < target:\n",
    "            left = mid + 1\n",
    "        else:\n",
    "            right = mid - 1\n",
    "    return -1\n"
   ]
  },
  {
   "cell_type": "code",
   "execution_count": 48,
   "id": "be04e46d-32a2-4dc0-a390-b7401d2e6849",
   "metadata": {},
   "outputs": [
    {
     "name": "stdout",
     "output_type": "stream",
     "text": [
      "4\n"
     ]
    }
   ],
   "source": [
    "nums = [-1, 0, 3, 5, 9, 12]\n",
    "target = 9\n",
    "print(search(nums, target))\n"
   ]
  },
  {
   "cell_type": "code",
   "execution_count": null,
   "id": "42b48d55-3649-4de3-80f2-5874c00421d3",
   "metadata": {},
   "outputs": [],
   "source": []
  }
 ],
 "metadata": {
  "kernelspec": {
   "display_name": "Python 3 (ipykernel)",
   "language": "python",
   "name": "python3"
  },
  "language_info": {
   "codemirror_mode": {
    "name": "ipython",
    "version": 3
   },
   "file_extension": ".py",
   "mimetype": "text/x-python",
   "name": "python",
   "nbconvert_exporter": "python",
   "pygments_lexer": "ipython3",
   "version": "3.10.8"
  }
 },
 "nbformat": 4,
 "nbformat_minor": 5
}
